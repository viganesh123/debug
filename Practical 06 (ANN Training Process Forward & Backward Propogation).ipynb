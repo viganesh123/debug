{
 "cells": [
  {
   "cell_type": "code",
   "execution_count": null,
   "id": "85166b0b",
   "metadata": {},
   "outputs": [],
   "source": [
    "import numpy as np  # Import NumPy library for numerical operations\n",
    "\n",
    "# Activation function: Sigmoid\n",
    "# Maps input 'x' to a value between 0 and 1\n",
    "def sigmoid(x):\n",
    "    return 1 / (1 + np.exp(-x))\n",
    "\n",
    "# Derivative of the sigmoid function\n",
    "# This is used during backpropagation to compute gradients\n",
    "def sigmoid_derivative(x):\n",
    "    return x * (1 - x)\n"
   ]
  },
  {
   "cell_type": "code",
   "execution_count": null,
   "id": "e290053f",
   "metadata": {},
   "outputs": [],
   "source": [
    "# Define the ANN (Artificial Neural Network) class\n",
    "class NeuralNetwork:\n",
    "    def __init__(self, layers):\n",
    "        self.layers = layers  # List containing number of neurons in each layer\n",
    "        self.weights = []     # List to hold weight matrices between layers\n",
    "        \n",
    "        # Initialize weights with random values for each layer connection\n",
    "        for i in range(1, len(layers)):\n",
    "            self.weights.append(np.random.randn(layers[i - 1], layers[i]))\n",
    "\n",
    "    def forward_propagation(self, X):\n",
    "        self.activations = [X]  # List to store activations for each layer\n",
    "        self.z_values = []      # List to store linear combinations (z = w.x) for each layer\n",
    "        \n",
    "        # Loop through each layer to compute activations\n",
    "        for i in range(len(self.layers) - 1):\n",
    "            z = np.dot(self.activations[i], self.weights[i])  # Linear combination\n",
    "            self.z_values.append(z)\n",
    "            activation = sigmoid(z)  # Apply activation function (sigmoid)\n",
    "            self.activations.append(activation)\n",
    "        \n",
    "        return self.activations[-1]  # Return output of final layer\n",
    "\n",
    "    def backward_propagation(self, X, y, learning_rate):\n",
    "        output = self.forward_propagation(X)  # Perform forward pass\n",
    "        error = y - output                    # Compute output error\n",
    "        delta = error * sigmoid_derivative(output)  # Compute delta for output layer\n",
    "        \n",
    "        # Loop backward through layers to update weights\n",
    "        for i in range(len(self.layers) - 2, -1, -1):\n",
    "            gradient = np.dot(self.activations[i].T, delta)  # Calculate gradient\n",
    "            self.weights[i] += learning_rate * gradient       # Update weights\n",
    "            \n",
    "            # Compute error and delta for next layer (going backward)\n",
    "            error = np.dot(delta, self.weights[i].T)\n",
    "            delta = error * sigmoid_derivative(self.activations[i])\n",
    "\n",
    "    def train(self, X, y, epochs, learning_rate):\n",
    "        # Train the network for a given number of epochs\n",
    "        for epoch in range(epochs):\n",
    "            self.backward_propagation(X, y, learning_rate)  # Update weights\n",
    "        \n",
    "        # Return final output after training\n",
    "        return self.forward_propagation(X)\n"
   ]
  },
  {
   "cell_type": "code",
   "execution_count": 3,
   "id": "9020ef38",
   "metadata": {},
   "outputs": [],
   "source": [
    "# Testing the ANN\n",
    "X = np.array([[0, 0], [0, 1], [1, 0], [1, 1]])\n",
    "y = np.array([[0], [1], [1], [0]])\n",
    "\n",
    "# Define the network architecture\n",
    "layers = [2, 4, 1]\n",
    "\n",
    "# Create an instance of the NeuralNetwork class\n",
    "nn = NeuralNetwork(layers)\n",
    "\n",
    "# Train the network\n",
    "output = nn.train(X, y, epochs=10000, learning_rate=0.1)"
   ]
  },
  {
   "cell_type": "code",
   "execution_count": 4,
   "id": "57367f2f",
   "metadata": {},
   "outputs": [
    {
     "name": "stdout",
     "output_type": "stream",
     "text": [
      "Output after training:\n",
      "[[0.0852969 ]\n",
      " [0.92925721]\n",
      " [0.92972153]\n",
      " [0.05997309]]\n",
      "\n",
      "Name : Shantanu Anant Gaikwad\n",
      "Roll No : 27\n"
     ]
    }
   ],
   "source": [
    "# Print the output after training\n",
    "print(\"Output after training:\")\n",
    "print(output)\n",
    "\n",
    "print(\"\\nName : Shantanu Anant Gaikwad\\nRoll No : 27\")"
   ]
  },
  {
   "cell_type": "code",
   "execution_count": null,
   "id": "5be640a3",
   "metadata": {},
   "outputs": [],
   "source": []
  }
 ],
 "metadata": {
  "kernelspec": {
   "display_name": "Python 3 (ipykernel)",
   "language": "python",
   "name": "python3"
  },
  "language_info": {
   "codemirror_mode": {
    "name": "ipython",
    "version": 3
   },
   "file_extension": ".py",
   "mimetype": "text/x-python",
   "name": "python",
   "nbconvert_exporter": "python",
   "pygments_lexer": "ipython3",
   "version": "3.8.5"
  }
 },
 "nbformat": 4,
 "nbformat_minor": 5
}
