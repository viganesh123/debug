{
 "cells": [
  {
   "cell_type": "code",
   "execution_count": null,
   "id": "454fa0bb",
   "metadata": {},
   "outputs": [],
   "source": [
    "import numpy as np\n",
    "\n",
    "class ARTNetwork:\n",
    "    def __init__(self, input_size, rho, alpha):\n",
    "        # Initialize network parameters\n",
    "        self.input_size = input_size  # Number of input features\n",
    "        self.rho = rho                # Vigilance parameter (controls similarity threshold)\n",
    "        self.alpha = alpha            # Learning rate or threshold scaling parameter\n",
    "\n",
    "        # Initialize weight vector (W) to zeros\n",
    "        self.W = np.zeros(input_size)\n",
    "\n",
    "        # Initialize vigilance vector (V) to ones\n",
    "        self.V = np.ones(input_size)\n",
    "\n",
    "    def train(self, X):\n",
    "        # Train the ART network with input data X\n",
    "        for x in X:\n",
    "            # Compute the choice function (activation value)\n",
    "            y = x / (self.rho + np.linalg.norm(self.W))\n",
    "\n",
    "            # Find the index of the maximum activated neuron\n",
    "            j = np.argmax(y)\n",
    "\n",
    "            # Check if the vigilance test passes and neuron is active\n",
    "            if y[j] >= self.alpha * np.sum(y) and self.V[j] > 0:\n",
    "                # If passes, update weights using the input vector scaled by vigilance\n",
    "                self.W += self.V[j] * x\n",
    "                # Decrease vigilance of the selected neuron (to reduce its future activation)\n",
    "                self.V[j] *= 0.5\n",
    "            else:\n",
    "                # Otherwise, increase vigilance of the selected neuron (making it more selective)\n",
    "                self.V[j] += 0.5\n",
    "\n",
    "    def classify(self, X):\n",
    "        # Classify each input pattern in X\n",
    "        classes = []\n",
    "        for x in X:\n",
    "            # Compute the choice function\n",
    "            y = x / (self.rho + np.linalg.norm(self.W))\n",
    "            # Assign class based on the highest response\n",
    "            j = np.argmax(y)\n",
    "            classes.append(j)\n",
    "        return classes\n"
   ]
  },
  {
   "cell_type": "code",
   "execution_count": null,
   "id": "6153d771",
   "metadata": {},
   "outputs": [
    {
     "name": "stdout",
     "output_type": "stream",
     "text": [
      "Test Data 1: Predicted Class: 1\n",
      "Test Data 2: Predicted Class: 0\n",
      "\n",
      "Name : Shantanu Anant Gaikwad\n",
      "Roll No : 27\n"
     ]
    }
   ],
   "source": [
    "# Training and testing data\n",
    "X_train = np.array([\n",
    "    [0, 1, 1, 0],\n",
    "    [1, 0, 0, 1],\n",
    "    [1, 0, 0, 0]\n",
    "])\n",
    "\n",
    "X_test = np.array([\n",
    "    [0, 1, 0, 0],\n",
    "    [1, 1, 1, 0]\n",
    "])\n",
    "\n",
    "# Set the number of input features based on training data\n",
    "input_size = X_train.shape[1]\n",
    "\n",
    "# Set ART network parameters\n",
    "rho = 0.5   # Vigilance parameter (controls how similar an input must be to match a category)\n",
    "alpha = 0.9 # Scaling parameter (affects the threshold condition)\n",
    "\n",
    "# Initialize the ART network with the given parameters\n",
    "art_network = ARTNetwork(input_size, rho, alpha)\n",
    "\n",
    "# Train the network on the training data\n",
    "art_network.train(X_train)\n",
    "\n",
    "# Classify the test data\n",
    "classes = art_network.classify(X_test)\n",
    "\n",
    "# Print predicted class for each test instance\n",
    "for i, data in enumerate(X_test):\n",
    "    print(f\"Test Data {i+1}: Predicted Class: {classes[i]}\")\n"
   ]
  },
  {
   "cell_type": "code",
   "execution_count": null,
   "id": "cec9a601",
   "metadata": {},
   "outputs": [],
   "source": []
  }
 ],
 "metadata": {
  "kernelspec": {
   "display_name": "Python 3 (ipykernel)",
   "language": "python",
   "name": "python3"
  },
  "language_info": {
   "codemirror_mode": {
    "name": "ipython",
    "version": 3
   },
   "file_extension": ".py",
   "mimetype": "text/x-python",
   "name": "python",
   "nbconvert_exporter": "python",
   "pygments_lexer": "ipython3",
   "version": "3.8.5"
  }
 },
 "nbformat": 4,
 "nbformat_minor": 5
}
